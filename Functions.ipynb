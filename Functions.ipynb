{
 "cells": [
  {
   "cell_type": "markdown",
   "metadata": {},
   "source": [
    "# Python Tutorial - Functions, Classes, StdLibs"
   ]
  },
  {
   "cell_type": "markdown",
   "metadata": {},
   "source": [
    "### A function is a block of organized, reusable code that is used to perform a single, related action.\n",
    "\n",
    "* Function blocks begin with the keyword def followed by the function name and parentheses ( `( )` )\n",
    "* Any input parameters or arguments should be placed within these parentheses. You can also define parameters inside these parentheses.\n",
    "* The first statement can be an optional the documentation string (`docstring`) given in `triple-quoted-string`\n",
    "* Rest of the block defining statements will follow colon(`:`) and is indented. Indentation for all the following lines should be same\n",
    "* Last statement can be an optional return statement. No return statement is same as `return None`\n",
    "\n",
    "<b> Syntax: </b>\n",
    "\n",
    "```def functionname( parameters ):\n",
    "   \"function_docstring\"\n",
    "   function_suite\n",
    "   return [expression]```"
   ]
  },
  {
   "cell_type": "code",
   "execution_count": 1,
   "metadata": {},
   "outputs": [
    {
     "name": "stdout",
     "output_type": "stream",
     "text": [
      "Hi Puneet, how are you paunr\n",
      "Hi Puneet, how are you today\n",
      "Hi Puneet, how are you today\n"
     ]
    }
   ],
   "source": [
    "print(\"Hi {}, how are you {}\".format(\"Puneet\", \"paunr\")) # POSITIONAL\n",
    "\n",
    "print(\"Hi {name}, how are you {name2}\".format(name=\"Puneet\", name2=\"today\")) # KEYWORD\n",
    "print(\"Hi %s, how are you %s\" % (\"Puneet\", \"today\")) # KEYWORD"
   ]
  },
  {
   "cell_type": "code",
   "execution_count": 2,
   "metadata": {
    "scrolled": true
   },
   "outputs": [
    {
     "name": "stdout",
     "output_type": "stream",
     "text": [
      "Help on built-in function sorted in module builtins:\n",
      "\n",
      "sorted(iterable, /, *, key=None, reverse=False)\n",
      "    Return a new list containing all items from the iterable in ascending order.\n",
      "    \n",
      "    A custom key function can be supplied to customize the sort order, and the\n",
      "    reverse flag can be set to request the result in descending order.\n",
      "\n"
     ]
    }
   ],
   "source": [
    "help(sorted)"
   ]
  },
  {
   "cell_type": "code",
   "execution_count": 3,
   "metadata": {},
   "outputs": [
    {
     "name": "stdout",
     "output_type": "stream",
     "text": [
      "Hello, World!\n"
     ]
    }
   ],
   "source": [
    "# Ex-1\n",
    "def print_hello():\n",
    "    print(\"Hello, World!\")\n",
    "\n",
    "print_hello()"
   ]
  },
  {
   "cell_type": "code",
   "execution_count": 4,
   "metadata": {},
   "outputs": [
    {
     "name": "stdout",
     "output_type": "stream",
     "text": [
      "Hello, World!\n"
     ]
    }
   ],
   "source": [
    "print_hello()"
   ]
  },
  {
   "cell_type": "code",
   "execution_count": 5,
   "metadata": {
    "scrolled": true
   },
   "outputs": [
    {
     "name": "stdout",
     "output_type": "stream",
     "text": [
      "Hello, World!\n",
      "Hello, Universe!\n"
     ]
    }
   ],
   "source": [
    "# Ex-2 Parameters\n",
    "def print_hello(name):\n",
    "    print(\"Hello, {}!\".format(name))\n",
    "\n",
    "print_hello(\"World\")\n",
    "print_hello(\"Universe\")"
   ]
  },
  {
   "cell_type": "code",
   "execution_count": 6,
   "metadata": {},
   "outputs": [
    {
     "name": "stdout",
     "output_type": "stream",
     "text": [
      "Hello, Puneet!\n"
     ]
    }
   ],
   "source": [
    "print_hello('Puneet')"
   ]
  },
  {
   "cell_type": "code",
   "execution_count": 7,
   "metadata": {},
   "outputs": [
    {
     "name": "stdout",
     "output_type": "stream",
     "text": [
      "Hello, World!\n",
      "Hello, Universe!\n",
      "Hello, Puneet!\n"
     ]
    }
   ],
   "source": [
    "# Ex-3 Default Parameters\n",
    "def print_hello(name=\"World\"):\n",
    "    print(\"Hello, {}!\".format(name))\n",
    "\n",
    "print_hello()\n",
    "print_hello(\"Universe\")\n",
    "print_hello(\"Puneet\")"
   ]
  },
  {
   "cell_type": "code",
   "execution_count": 8,
   "metadata": {},
   "outputs": [
    {
     "name": "stdout",
     "output_type": "stream",
     "text": [
      "Help on function print_hello in module __main__:\n",
      "\n",
      "print_hello(name='World')\n",
      "    This is a documentation string for print_hello function. this function take one parameter - name\n",
      "\n"
     ]
    }
   ],
   "source": [
    "# Ex-4 DOCSTRING\n",
    "def print_hello(name=\"World\"):\n",
    "    \"This is a documentation string for print_hello function. this function take one parameter - name\"\n",
    "    print(\"Hello, {}!\".format(name))\n",
    "# print_hello(\"Universe\")\n",
    "help(print_hello)"
   ]
  },
  {
   "cell_type": "code",
   "execution_count": 9,
   "metadata": {},
   "outputs": [
    {
     "name": "stdout",
     "output_type": "stream",
     "text": [
      "Hello, Puneet to the World!\n",
      "Hello, Puneet to the Universe!\n",
      "Hello, Puneet to the Python Course!\n"
     ]
    }
   ],
   "source": [
    "# Ex-5 Default Parameters\n",
    "def print_hello(person, name=\"World\"):\n",
    "    \"\"\"\n",
    "    You have to provide atleast 1 arguement\n",
    "    person is the req arg.\n",
    "    name is optional.\n",
    "    \"\"\"\n",
    "    print(\"Hello, {} to the {}!\".format(person, name))\n",
    "\n",
    "print_hello(\"Puneet\")\n",
    "print_hello(\"Puneet\", name=\"Universe\")\n",
    "print_hello(\"Puneet\", \"Python Course\")"
   ]
  },
  {
   "cell_type": "code",
   "execution_count": 10,
   "metadata": {},
   "outputs": [
    {
     "name": "stdout",
     "output_type": "stream",
     "text": [
      "Hello, Puneet to the Puneet!\n"
     ]
    }
   ],
   "source": [
    "print_hello(\"Puneet\", name=\"Puneet\")"
   ]
  },
  {
   "cell_type": "code",
   "execution_count": 11,
   "metadata": {},
   "outputs": [
    {
     "name": "stdout",
     "output_type": "stream",
     "text": [
      "Puneet is rejected \n",
      "XYZ is approved \n",
      "XYZ is to be scrutinized \n"
     ]
    }
   ],
   "source": [
    "def approval(name, score, GOOD_CIBIL_SCORE = 700, BAD_CIBIL_SCORE = 500):\n",
    "    if score >= GOOD_CIBIL_SCORE:\n",
    "        print(\"{} is approved \".format(name))\n",
    "    elif (score < GOOD_CIBIL_SCORE) & (score >= BAD_CIBIL_SCORE):\n",
    "        print(\"{} is to be scrutinized \".format(name))\n",
    "    else:\n",
    "        print(\"{} is rejected \".format(name))\n",
    "\n",
    "approval('Puneet', 450)\n",
    "approval('XYZ', 750)\n",
    "approval('XYZ', 750, 800, 700)"
   ]
  },
  {
   "cell_type": "code",
   "execution_count": 12,
   "metadata": {},
   "outputs": [
    {
     "name": "stdout",
     "output_type": "stream",
     "text": [
      "Hello, Puneet to the World!\n",
      "None\n"
     ]
    }
   ],
   "source": [
    "xyz = print_hello(\"Puneet\")\n",
    "print(xyz)"
   ]
  },
  {
   "cell_type": "code",
   "execution_count": 13,
   "metadata": {},
   "outputs": [
    {
     "name": "stdout",
     "output_type": "stream",
     "text": [
      "a is ->  8\n"
     ]
    }
   ],
   "source": [
    "# Ex-6 return\n",
    "def twice(inp):\n",
    "    out = inp*2\n",
    "    return out\n",
    "\n",
    "a = twice(4)\n",
    "print(\"a is -> \", a)"
   ]
  },
  {
   "cell_type": "code",
   "execution_count": 14,
   "metadata": {},
   "outputs": [
    {
     "name": "stdout",
     "output_type": "stream",
     "text": [
      "both inputs have to be a number.\n",
      "-1\n",
      "both inputs have to be a number.\n",
      "-1\n",
      "3\n"
     ]
    }
   ],
   "source": [
    "# Ex-7 putting it all together\n",
    "def summation(inp1, inp2):\n",
    "    \"\"\"\n",
    "    \"\"\"\n",
    "    if (type(inp1) == str) | (type(inp2) == str):\n",
    "        print(\"both inputs have to be a number.\")\n",
    "        return -1\n",
    "    else:\n",
    "        out = inp1 + inp2\n",
    "    return out\n",
    "print(summation('1', 2))\n",
    "print(summation(1, '2'))\n",
    "print(summation(1, 2))"
   ]
  },
  {
   "cell_type": "markdown",
   "metadata": {},
   "source": [
    "## Name and Main"
   ]
  },
  {
   "cell_type": "code",
   "execution_count": 15,
   "metadata": {},
   "outputs": [
    {
     "name": "stderr",
     "output_type": "stream",
     "text": [
      "'cat' is not recognized as an internal or external command,\n",
      "operable program or batch file.\n"
     ]
    }
   ],
   "source": [
    "! cat one.py"
   ]
  },
  {
   "cell_type": "code",
   "execution_count": 16,
   "metadata": {},
   "outputs": [],
   "source": [
    "! python one.py"
   ]
  },
  {
   "cell_type": "code",
   "execution_count": 17,
   "metadata": {},
   "outputs": [
    {
     "name": "stdout",
     "output_type": "stream",
     "text": [
      "** This is where the import happen **\n",
      "f() is called.\n",
      "408\n",
      "we are in main of two.py\n"
     ]
    }
   ],
   "source": [
    "! python two.py"
   ]
  },
  {
   "cell_type": "markdown",
   "metadata": {},
   "source": [
    "### In-built functions"
   ]
  },
  {
   "cell_type": "code",
   "execution_count": 18,
   "metadata": {},
   "outputs": [
    {
     "data": {
      "text/plain": [
       "True"
      ]
     },
     "execution_count": 18,
     "metadata": {},
     "output_type": "execute_result"
    }
   ],
   "source": [
    "bool([-1])"
   ]
  },
  {
   "cell_type": "code",
   "execution_count": 19,
   "metadata": {},
   "outputs": [
    {
     "data": {
      "text/plain": [
       "False"
      ]
     },
     "execution_count": 19,
     "metadata": {},
     "output_type": "execute_result"
    }
   ],
   "source": [
    "any([False, False, False])"
   ]
  },
  {
   "cell_type": "code",
   "execution_count": 20,
   "metadata": {},
   "outputs": [
    {
     "data": {
      "text/plain": [
       "True"
      ]
     },
     "execution_count": 20,
     "metadata": {},
     "output_type": "execute_result"
    }
   ],
   "source": [
    "all([True, True, True])"
   ]
  },
  {
   "cell_type": "code",
   "execution_count": 21,
   "metadata": {},
   "outputs": [
    {
     "data": {
      "text/plain": [
       "[-20, -1, 0, 1, 4]"
      ]
     },
     "execution_count": 21,
     "metadata": {},
     "output_type": "execute_result"
    }
   ],
   "source": [
    "sorted([1, 4, -1, -20, 0])"
   ]
  },
  {
   "cell_type": "code",
   "execution_count": 22,
   "metadata": {},
   "outputs": [
    {
     "name": "stdout",
     "output_type": "stream",
     "text": [
      "\u0001 <class 'str'>\n"
     ]
    }
   ],
   "source": [
    "print(chr(1), type(chr(1)))"
   ]
  },
  {
   "cell_type": "code",
   "execution_count": 23,
   "metadata": {},
   "outputs": [
    {
     "data": {
      "text/plain": [
       "1.1"
      ]
     },
     "execution_count": 23,
     "metadata": {},
     "output_type": "execute_result"
    }
   ],
   "source": [
    "abs(1.1)"
   ]
  },
  {
   "cell_type": "code",
   "execution_count": 24,
   "metadata": {},
   "outputs": [
    {
     "name": "stdout",
     "output_type": "stream",
     "text": [
      "<generator object <genexpr> at 0x000002713D2A9AF0>\n"
     ]
    }
   ],
   "source": [
    "print (i for i in range(0,10))"
   ]
  },
  {
   "cell_type": "code",
   "execution_count": 25,
   "metadata": {},
   "outputs": [
    {
     "data": {
      "text/plain": [
       "[(0, 1), (1, 2), (2, 3), (3, 4)]"
      ]
     },
     "execution_count": 25,
     "metadata": {},
     "output_type": "execute_result"
    }
   ],
   "source": [
    "list(enumerate((1,2,3,4)))"
   ]
  },
  {
   "cell_type": "code",
   "execution_count": 26,
   "metadata": {},
   "outputs": [
    {
     "name": "stdout",
     "output_type": "stream",
     "text": [
      "index is -> 0 value is -> 1\n",
      "index is -> 1 value is -> 2\n",
      "index is -> 2 value is -> 3\n",
      "index is -> 3 value is -> 4\n"
     ]
    }
   ],
   "source": [
    "for k,v in enumerate([1,2,3,4]):\n",
    "    print('index is -> ' + str(k) + ' value is -> ' + str(v))"
   ]
  },
  {
   "cell_type": "code",
   "execution_count": 27,
   "metadata": {},
   "outputs": [
    {
     "data": {
      "text/plain": [
       "(1, 1)"
      ]
     },
     "execution_count": 27,
     "metadata": {},
     "output_type": "execute_result"
    }
   ],
   "source": [
    "int('1'), int(1.1)"
   ]
  },
  {
   "cell_type": "code",
   "execution_count": 28,
   "metadata": {},
   "outputs": [
    {
     "data": {
      "text/plain": [
       "str"
      ]
     },
     "execution_count": 28,
     "metadata": {},
     "output_type": "execute_result"
    }
   ],
   "source": [
    "a = 'a'\n",
    "type(a)"
   ]
  },
  {
   "cell_type": "markdown",
   "metadata": {},
   "source": [
    "##### Python is a dynamically but strictly typed language\n",
    "* `int('aa')` doesn't work and leads to an error as `'aa'` is a `string` and can't be coerced to `int`\n",
    "* `len` returns length of an `iterable`\n",
    "* `bin` returns binary code for the input\n",
    "* `eval` evaluates and produce result for the python expression\n",
    "* `globals` results in *Global Symbol Table*\n",
    "* `sum` returns sum of an `iterable`\n",
    "* `reversed` returns reverse of an `iterable`"
   ]
  },
  {
   "cell_type": "code",
   "execution_count": 29,
   "metadata": {},
   "outputs": [
    {
     "data": {
      "text/plain": [
       "4"
      ]
     },
     "execution_count": 29,
     "metadata": {},
     "output_type": "execute_result"
    }
   ],
   "source": [
    "len([1,2,3,4])"
   ]
  },
  {
   "cell_type": "code",
   "execution_count": 30,
   "metadata": {},
   "outputs": [
    {
     "data": {
      "text/plain": [
       "'0b11011110'"
      ]
     },
     "execution_count": 30,
     "metadata": {},
     "output_type": "execute_result"
    }
   ],
   "source": [
    "bin(222) # 10110"
   ]
  },
  {
   "cell_type": "code",
   "execution_count": 31,
   "metadata": {},
   "outputs": [
    {
     "name": "stdout",
     "output_type": "stream",
     "text": [
      "7\n",
      "None\n",
      "{'__name__': '__main__', '__doc__': 'Automatically created module for IPython interactive environment', '__package__': None, '__loader__': None, '__spec__': None, '__builtin__': <module 'builtins' (built-in)>, '__builtins__': <module 'builtins' (built-in)>, '_ih': ['', 'print(\"Hi {}, how are you {}\".format(\"Puneet\", \"paunr\")) # POSITIONAL\\n\\nprint(\"Hi {name}, how are you {name2}\".format(name=\"Puneet\", name2=\"today\")) # KEYWORD\\nprint(\"Hi %s, how are you %s\" % (\"Puneet\", \"today\")) # KEYWORD', 'help(sorted)', '# Ex-1\\ndef print_hello():\\n    print(\"Hello, World!\")\\n\\nprint_hello()', 'print_hello()', '# Ex-2 Parameters\\ndef print_hello(name):\\n    print(\"Hello, {}!\".format(name))\\n\\nprint_hello(\"World\")\\nprint_hello(\"Universe\")', \"print_hello('Puneet')\", '# Ex-3 Default Parameters\\ndef print_hello(name=\"World\"):\\n    print(\"Hello, {}!\".format(name))\\n\\nprint_hello()\\nprint_hello(\"Universe\")\\nprint_hello(\"Puneet\")', '# Ex-4 DOCSTRING\\ndef print_hello(name=\"World\"):\\n    \"This is a documentation string for print_hello function. this function take one parameter - name\"\\n    print(\"Hello, {}!\".format(name))\\n# print_hello(\"Universe\")\\nhelp(print_hello)', '# Ex-5 Default Parameters\\ndef print_hello(person, name=\"World\"):\\n    \"\"\"\\n    You have to provide atleast 1 arguement\\n    person is the req arg.\\n    name is optional.\\n    \"\"\"\\n    print(\"Hello, {} to the {}!\".format(person, name))\\n\\nprint_hello(\"Puneet\")\\nprint_hello(\"Puneet\", name=\"Universe\")\\nprint_hello(\"Puneet\", \"Python Course\")', 'print_hello(\"Puneet\", name=\"Puneet\")', 'def approval(name, score, GOOD_CIBIL_SCORE = 700, BAD_CIBIL_SCORE = 500):\\n    if score >= GOOD_CIBIL_SCORE:\\n        print(\"{} is approved \".format(name))\\n    elif (score < GOOD_CIBIL_SCORE) & (score >= BAD_CIBIL_SCORE):\\n        print(\"{} is to be scrutinized \".format(name))\\n    else:\\n        print(\"{} is rejected \".format(name))\\n\\napproval(\\'Puneet\\', 450)\\napproval(\\'XYZ\\', 750)\\napproval(\\'XYZ\\', 750, 800, 700)', 'xyz = print_hello(\"Puneet\")\\nprint(xyz)', '# Ex-6 return\\ndef twice(inp):\\n    out = inp*2\\n    return out\\n\\na = twice(4)\\nprint(\"a is -> \", a)', '# Ex-7 putting it all together\\ndef summation(inp1, inp2):\\n    \"\"\"\\n    \"\"\"\\n    if (type(inp1) == str) | (type(inp2) == str):\\n        print(\"both inputs have to be a number.\")\\n        return -1\\n    else:\\n        out = inp1 + inp2\\n    return out\\nprint(summation(\\'1\\', 2))\\nprint(summation(1, \\'2\\'))\\nprint(summation(1, 2))', \"get_ipython().system(' cat one.py')\", \"get_ipython().system(' python one.py')\", \"get_ipython().system(' python two.py')\", 'bool([-1])', 'any([False, False, False])', 'all([True, True, True])', 'sorted([1, 4, -1, -20, 0])', 'print(chr(1), type(chr(1)))', 'abs(1.1)', 'print (i for i in range(0,10))', 'list(enumerate((1,2,3,4)))', \"for k,v in enumerate([1,2,3,4]):\\n    print('index is -> ' + str(k) + ' value is -> ' + str(v))\", \"int('1'), int(1.1)\", \"a = 'a'\\ntype(a)\", 'len([1,2,3,4])', 'bin(222) # 10110', \"print(eval('print(3+4)'))\\nprint(globals())\"], '_oh': {18: True, 19: False, 20: True, 21: [-20, -1, 0, 1, 4], 23: 1.1, 25: [(0, 1), (1, 2), (2, 3), (3, 4)], 27: (1, 1), 28: <class 'str'>, 29: 4, 30: '0b11011110'}, '_dh': ['C:\\\\Users\\\\puneet\\\\0_Python_NB'], 'In': ['', 'print(\"Hi {}, how are you {}\".format(\"Puneet\", \"paunr\")) # POSITIONAL\\n\\nprint(\"Hi {name}, how are you {name2}\".format(name=\"Puneet\", name2=\"today\")) # KEYWORD\\nprint(\"Hi %s, how are you %s\" % (\"Puneet\", \"today\")) # KEYWORD', 'help(sorted)', '# Ex-1\\ndef print_hello():\\n    print(\"Hello, World!\")\\n\\nprint_hello()', 'print_hello()', '# Ex-2 Parameters\\ndef print_hello(name):\\n    print(\"Hello, {}!\".format(name))\\n\\nprint_hello(\"World\")\\nprint_hello(\"Universe\")', \"print_hello('Puneet')\", '# Ex-3 Default Parameters\\ndef print_hello(name=\"World\"):\\n    print(\"Hello, {}!\".format(name))\\n\\nprint_hello()\\nprint_hello(\"Universe\")\\nprint_hello(\"Puneet\")', '# Ex-4 DOCSTRING\\ndef print_hello(name=\"World\"):\\n    \"This is a documentation string for print_hello function. this function take one parameter - name\"\\n    print(\"Hello, {}!\".format(name))\\n# print_hello(\"Universe\")\\nhelp(print_hello)', '# Ex-5 Default Parameters\\ndef print_hello(person, name=\"World\"):\\n    \"\"\"\\n    You have to provide atleast 1 arguement\\n    person is the req arg.\\n    name is optional.\\n    \"\"\"\\n    print(\"Hello, {} to the {}!\".format(person, name))\\n\\nprint_hello(\"Puneet\")\\nprint_hello(\"Puneet\", name=\"Universe\")\\nprint_hello(\"Puneet\", \"Python Course\")', 'print_hello(\"Puneet\", name=\"Puneet\")', 'def approval(name, score, GOOD_CIBIL_SCORE = 700, BAD_CIBIL_SCORE = 500):\\n    if score >= GOOD_CIBIL_SCORE:\\n        print(\"{} is approved \".format(name))\\n    elif (score < GOOD_CIBIL_SCORE) & (score >= BAD_CIBIL_SCORE):\\n        print(\"{} is to be scrutinized \".format(name))\\n    else:\\n        print(\"{} is rejected \".format(name))\\n\\napproval(\\'Puneet\\', 450)\\napproval(\\'XYZ\\', 750)\\napproval(\\'XYZ\\', 750, 800, 700)', 'xyz = print_hello(\"Puneet\")\\nprint(xyz)', '# Ex-6 return\\ndef twice(inp):\\n    out = inp*2\\n    return out\\n\\na = twice(4)\\nprint(\"a is -> \", a)', '# Ex-7 putting it all together\\ndef summation(inp1, inp2):\\n    \"\"\"\\n    \"\"\"\\n    if (type(inp1) == str) | (type(inp2) == str):\\n        print(\"both inputs have to be a number.\")\\n        return -1\\n    else:\\n        out = inp1 + inp2\\n    return out\\nprint(summation(\\'1\\', 2))\\nprint(summation(1, \\'2\\'))\\nprint(summation(1, 2))', \"get_ipython().system(' cat one.py')\", \"get_ipython().system(' python one.py')\", \"get_ipython().system(' python two.py')\", 'bool([-1])', 'any([False, False, False])', 'all([True, True, True])', 'sorted([1, 4, -1, -20, 0])', 'print(chr(1), type(chr(1)))', 'abs(1.1)', 'print (i for i in range(0,10))', 'list(enumerate((1,2,3,4)))', \"for k,v in enumerate([1,2,3,4]):\\n    print('index is -> ' + str(k) + ' value is -> ' + str(v))\", \"int('1'), int(1.1)\", \"a = 'a'\\ntype(a)\", 'len([1,2,3,4])', 'bin(222) # 10110', \"print(eval('print(3+4)'))\\nprint(globals())\"], 'Out': {18: True, 19: False, 20: True, 21: [-20, -1, 0, 1, 4], 23: 1.1, 25: [(0, 1), (1, 2), (2, 3), (3, 4)], 27: (1, 1), 28: <class 'str'>, 29: 4, 30: '0b11011110'}, 'get_ipython': <bound method InteractiveShell.get_ipython of <ipykernel.zmqshell.ZMQInteractiveShell object at 0x000002713D18B2B0>>, 'exit': <IPython.core.autocall.ZMQExitAutocall object at 0x000002713D1EC358>, 'quit': <IPython.core.autocall.ZMQExitAutocall object at 0x000002713D1EC358>, '_': '0b11011110', '__': 4, '___': <class 'str'>, '_i': 'bin(222) # 10110', '_ii': 'len([1,2,3,4])', '_iii': \"a = 'a'\\ntype(a)\", '_i1': 'print(\"Hi {}, how are you {}\".format(\"Puneet\", \"paunr\")) # POSITIONAL\\n\\nprint(\"Hi {name}, how are you {name2}\".format(name=\"Puneet\", name2=\"today\")) # KEYWORD\\nprint(\"Hi %s, how are you %s\" % (\"Puneet\", \"today\")) # KEYWORD', '_i2': 'help(sorted)', '_i3': '# Ex-1\\ndef print_hello():\\n    print(\"Hello, World!\")\\n\\nprint_hello()', 'print_hello': <function print_hello at 0x000002713B504EA0>, '_i4': 'print_hello()', '_i5': '# Ex-2 Parameters\\ndef print_hello(name):\\n    print(\"Hello, {}!\".format(name))\\n\\nprint_hello(\"World\")\\nprint_hello(\"Universe\")', '_i6': \"print_hello('Puneet')\", '_i7': '# Ex-3 Default Parameters\\ndef print_hello(name=\"World\"):\\n    print(\"Hello, {}!\".format(name))\\n\\nprint_hello()\\nprint_hello(\"Universe\")\\nprint_hello(\"Puneet\")', '_i8': '# Ex-4 DOCSTRING\\ndef print_hello(name=\"World\"):\\n    \"This is a documentation string for print_hello function. this function take one parameter - name\"\\n    print(\"Hello, {}!\".format(name))\\n# print_hello(\"Universe\")\\nhelp(print_hello)', '_i9': '# Ex-5 Default Parameters\\ndef print_hello(person, name=\"World\"):\\n    \"\"\"\\n    You have to provide atleast 1 arguement\\n    person is the req arg.\\n    name is optional.\\n    \"\"\"\\n    print(\"Hello, {} to the {}!\".format(person, name))\\n\\nprint_hello(\"Puneet\")\\nprint_hello(\"Puneet\", name=\"Universe\")\\nprint_hello(\"Puneet\", \"Python Course\")', '_i10': 'print_hello(\"Puneet\", name=\"Puneet\")', '_i11': 'def approval(name, score, GOOD_CIBIL_SCORE = 700, BAD_CIBIL_SCORE = 500):\\n    if score >= GOOD_CIBIL_SCORE:\\n        print(\"{} is approved \".format(name))\\n    elif (score < GOOD_CIBIL_SCORE) & (score >= BAD_CIBIL_SCORE):\\n        print(\"{} is to be scrutinized \".format(name))\\n    else:\\n        print(\"{} is rejected \".format(name))\\n\\napproval(\\'Puneet\\', 450)\\napproval(\\'XYZ\\', 750)\\napproval(\\'XYZ\\', 750, 800, 700)', 'approval': <function approval at 0x000002713D2C47B8>, '_i12': 'xyz = print_hello(\"Puneet\")\\nprint(xyz)', 'xyz': None, '_i13': '# Ex-6 return\\ndef twice(inp):\\n    out = inp*2\\n    return out\\n\\na = twice(4)\\nprint(\"a is -> \", a)', 'twice': <function twice at 0x000002713D2C49D8>, 'a': 'a', '_i14': '# Ex-7 putting it all together\\ndef summation(inp1, inp2):\\n    \"\"\"\\n    \"\"\"\\n    if (type(inp1) == str) | (type(inp2) == str):\\n        print(\"both inputs have to be a number.\")\\n        return -1\\n    else:\\n        out = inp1 + inp2\\n    return out\\nprint(summation(\\'1\\', 2))\\nprint(summation(1, \\'2\\'))\\nprint(summation(1, 2))', 'summation': <function summation at 0x000002713D2C4D08>, '_i15': '! cat one.py', '_exit_code': 0, '_i16': '! python one.py', '_i17': '! python two.py', '_i18': 'bool([-1])', '_18': True, '_i19': 'any([False, False, False])', '_19': False, '_i20': 'all([True, True, True])', '_20': True, '_i21': 'sorted([1, 4, -1, -20, 0])', '_21': [-20, -1, 0, 1, 4], '_i22': 'print(chr(1), type(chr(1)))', '_i23': 'abs(1.1)', '_23': 1.1, '_i24': 'print (i for i in range(0,10))', '_i25': 'list(enumerate((1,2,3,4)))', '_25': [(0, 1), (1, 2), (2, 3), (3, 4)], '_i26': \"for k,v in enumerate([1,2,3,4]):\\n    print('index is -> ' + str(k) + ' value is -> ' + str(v))\", 'k': 3, 'v': 4, '_i27': \"int('1'), int(1.1)\", '_27': (1, 1), '_i28': \"a = 'a'\\ntype(a)\", '_28': <class 'str'>, '_i29': 'len([1,2,3,4])', '_29': 4, '_i30': 'bin(222) # 10110', '_30': '0b11011110', '_i31': \"print(eval('print(3+4)'))\\nprint(globals())\"}\n"
     ]
    }
   ],
   "source": [
    "print(eval('print(3+4)'))\n",
    "print(globals())"
   ]
  },
  {
   "cell_type": "code",
   "execution_count": 32,
   "metadata": {},
   "outputs": [
    {
     "name": "stdout",
     "output_type": "stream",
     "text": [
      "10\n",
      "<list_reverseiterator object at 0x000002713D3096A0>\n"
     ]
    }
   ],
   "source": [
    "print(sum([1,2,3,4]))\n",
    "print(reversed([1,2,3,4]))"
   ]
  },
  {
   "cell_type": "markdown",
   "metadata": {},
   "source": [
    "### Lambda functions\n",
    "\n",
    "* Unnamed functions\n",
    "* defined using the `lambda` keyword\n",
    "\n",
    "<b> Syntax: </b>\n",
    "\n",
    "`lambda arguments: expression`"
   ]
  },
  {
   "cell_type": "code",
   "execution_count": 33,
   "metadata": {},
   "outputs": [
    {
     "data": {
      "text/plain": [
       "<function __main__.<lambda>(x)>"
      ]
     },
     "execution_count": 33,
     "metadata": {},
     "output_type": "execute_result"
    }
   ],
   "source": [
    "lambda x: x**2"
   ]
  },
  {
   "cell_type": "code",
   "execution_count": 34,
   "metadata": {},
   "outputs": [],
   "source": [
    "sqr = lambda x: x**2"
   ]
  },
  {
   "cell_type": "code",
   "execution_count": 35,
   "metadata": {},
   "outputs": [
    {
     "data": {
      "text/plain": [
       "49284"
      ]
     },
     "execution_count": 35,
     "metadata": {},
     "output_type": "execute_result"
    }
   ],
   "source": [
    "sqr(222)"
   ]
  },
  {
   "cell_type": "code",
   "execution_count": 36,
   "metadata": {},
   "outputs": [],
   "source": [
    "f = lambda x, t: x if x > t else t"
   ]
  },
  {
   "cell_type": "code",
   "execution_count": 37,
   "metadata": {},
   "outputs": [
    {
     "data": {
      "text/plain": [
       "45"
      ]
     },
     "execution_count": 37,
     "metadata": {},
     "output_type": "execute_result"
    }
   ],
   "source": [
    "f(45,5)"
   ]
  },
  {
   "cell_type": "markdown",
   "metadata": {},
   "source": [
    "* map - Syntax: `map(func, iterator)`\n",
    "* filter - Syntax: `filter(func, iterator)`\n",
    "* reduce - Syntax: `redce(func, iterator)`"
   ]
  },
  {
   "cell_type": "code",
   "execution_count": 38,
   "metadata": {},
   "outputs": [],
   "source": [
    "def f(x): \n",
    "    return x*2"
   ]
  },
  {
   "cell_type": "code",
   "execution_count": 39,
   "metadata": {},
   "outputs": [
    {
     "data": {
      "text/plain": [
       "[2, 4, 6, 8, 10]"
      ]
     },
     "execution_count": 39,
     "metadata": {},
     "output_type": "execute_result"
    }
   ],
   "source": [
    "list(map(lambda x: x*2, [1, 2, 3, 4, 5]))"
   ]
  },
  {
   "cell_type": "code",
   "execution_count": 40,
   "metadata": {},
   "outputs": [
    {
     "name": "stdout",
     "output_type": "stream",
     "text": [
      "3\n",
      "4\n",
      "5\n"
     ]
    }
   ],
   "source": [
    "for i in filter(lambda x: x > 2, [1,2,3,4,5]): print(i)"
   ]
  },
  {
   "cell_type": "code",
   "execution_count": 41,
   "metadata": {},
   "outputs": [
    {
     "data": {
      "text/plain": [
       "5396760"
      ]
     },
     "execution_count": 41,
     "metadata": {},
     "output_type": "execute_result"
    }
   ],
   "source": [
    "from functools import reduce\n",
    "reduce(lambda x, y: x*y, [1,2,3,4,5, 57, 789])"
   ]
  },
  {
   "cell_type": "markdown",
   "metadata": {},
   "source": [
    "### Scope of Variable"
   ]
  },
  {
   "cell_type": "code",
   "execution_count": 42,
   "metadata": {},
   "outputs": [
    {
     "name": "stdout",
     "output_type": "stream",
     "text": [
      "1\n",
      "1\n",
      "2\n",
      "********************\n"
     ]
    },
    {
     "ename": "NameError",
     "evalue": "name 'b' is not defined",
     "output_type": "error",
     "traceback": [
      "\u001b[1;31m---------------------------------------------------------------------------\u001b[0m",
      "\u001b[1;31mNameError\u001b[0m                                 Traceback (most recent call last)",
      "\u001b[1;32m<ipython-input-42-6065c192baa1>\u001b[0m in \u001b[0;36m<module>\u001b[1;34m()\u001b[0m\n\u001b[0;32m      9\u001b[0m \u001b[0mprint\u001b[0m\u001b[1;33m(\u001b[0m\u001b[0ma\u001b[0m\u001b[1;33m)\u001b[0m\u001b[1;33m\u001b[0m\u001b[0m\n\u001b[0;32m     10\u001b[0m \u001b[0mscope_check\u001b[0m\u001b[1;33m(\u001b[0m\u001b[1;33m)\u001b[0m\u001b[1;33m\u001b[0m\u001b[0m\n\u001b[1;32m---> 11\u001b[1;33m \u001b[0mprint\u001b[0m\u001b[1;33m(\u001b[0m\u001b[0mb\u001b[0m\u001b[1;33m)\u001b[0m \u001b[1;31m## b is defined ONLY IN THE SCOPE OF FUNCTION scope_check hence it will lead to an error\u001b[0m\u001b[1;33m\u001b[0m\u001b[0m\n\u001b[0m",
      "\u001b[1;31mNameError\u001b[0m: name 'b' is not defined"
     ]
    }
   ],
   "source": [
    "a = 1\n",
    "\n",
    "print(a)\n",
    "def scope_check():\n",
    "    b = 2\n",
    "    print(b)\n",
    "    print('*'*20)\n",
    "\n",
    "print(a)\n",
    "scope_check()\n",
    "print(b) ## b is defined ONLY IN THE SCOPE OF FUNCTION scope_check hence it will lead to an error"
   ]
  },
  {
   "cell_type": "code",
   "execution_count": 43,
   "metadata": {},
   "outputs": [
    {
     "name": "stdout",
     "output_type": "stream",
     "text": [
      "1\n",
      "1\n",
      "inside a is --> 2\n",
      "2\n",
      "********************\n",
      "outside a is --> 1\n"
     ]
    },
    {
     "ename": "NameError",
     "evalue": "name 'b' is not defined",
     "output_type": "error",
     "traceback": [
      "\u001b[1;31m---------------------------------------------------------------------------\u001b[0m",
      "\u001b[1;31mNameError\u001b[0m                                 Traceback (most recent call last)",
      "\u001b[1;32m<ipython-input-43-05dadcf3ed7b>\u001b[0m in \u001b[0;36m<module>\u001b[1;34m()\u001b[0m\n\u001b[0;32m     13\u001b[0m \u001b[0mscope_check\u001b[0m\u001b[1;33m(\u001b[0m\u001b[1;33m)\u001b[0m\u001b[1;33m\u001b[0m\u001b[0m\n\u001b[0;32m     14\u001b[0m \u001b[0mprint\u001b[0m\u001b[1;33m(\u001b[0m\u001b[1;34m'outside a is -->'\u001b[0m\u001b[1;33m,\u001b[0m\u001b[0ma\u001b[0m\u001b[1;33m)\u001b[0m\u001b[1;33m\u001b[0m\u001b[0m\n\u001b[1;32m---> 15\u001b[1;33m \u001b[0mprint\u001b[0m\u001b[1;33m(\u001b[0m\u001b[0mb\u001b[0m\u001b[1;33m)\u001b[0m \u001b[1;31m## b is defined ONLY IN THE SCOPE OF FUNCTION scope_check hence it will lead to an error\u001b[0m\u001b[1;33m\u001b[0m\u001b[0m\n\u001b[0m",
      "\u001b[1;31mNameError\u001b[0m: name 'b' is not defined"
     ]
    }
   ],
   "source": [
    "a = 1\n",
    "\n",
    "print(a)\n",
    "def scope_check():\n",
    "    b = 2\n",
    "    a = 1\n",
    "    a = a + 1\n",
    "    print('inside a is -->', a)\n",
    "    print(b)\n",
    "    print('*'*20)\n",
    "\n",
    "print(a)\n",
    "scope_check()\n",
    "print('outside a is -->',a)\n",
    "print(b) ## b is defined ONLY IN THE SCOPE OF FUNCTION scope_check hence it will lead to an error"
   ]
  },
  {
   "cell_type": "markdown",
   "metadata": {},
   "source": [
    "### Variable Length arguement"
   ]
  },
  {
   "cell_type": "markdown",
   "metadata": {},
   "source": [
    "kwargs, args\n",
    "TO UNPACK a LIST `*l`\n",
    "TO UNPACK a DICT `**l`"
   ]
  },
  {
   "cell_type": "code",
   "execution_count": 44,
   "metadata": {},
   "outputs": [
    {
     "name": "stdout",
     "output_type": "stream",
     "text": [
      "{'a': 4, 'b': 2, 'c': 3}\n",
      "[1, 2, 3]\n"
     ]
    }
   ],
   "source": [
    "d = {'a': 4, 'b': 2, 'c': 3}\n",
    "l = [1, 2, 3]\n",
    "print(d)\n",
    "print(l)"
   ]
  },
  {
   "cell_type": "markdown",
   "metadata": {},
   "source": [
    "#### List unpacking"
   ]
  },
  {
   "cell_type": "code",
   "execution_count": 45,
   "metadata": {},
   "outputs": [
    {
     "data": {
      "text/plain": [
       "6"
      ]
     },
     "execution_count": 45,
     "metadata": {},
     "output_type": "execute_result"
    }
   ],
   "source": [
    "def f(a, b, c):\n",
    "    return a+b+c\n",
    "\n",
    "# l= [1,2,3] \n",
    "# *l --> 1,2,3\n",
    "# f(1,2,3)\n",
    "f(*l) ## equivalent to f(1,2,3)"
   ]
  },
  {
   "cell_type": "code",
   "execution_count": 46,
   "metadata": {},
   "outputs": [
    {
     "data": {
      "text/plain": [
       "9"
      ]
     },
     "execution_count": 46,
     "metadata": {},
     "output_type": "execute_result"
    }
   ],
   "source": [
    "f(**d) # equivalent to  f(a=4,b=2,c=3)"
   ]
  },
  {
   "cell_type": "markdown",
   "metadata": {},
   "source": [
    "* `*` unpacks a list as var args\n",
    "* `**` unpacks a dictionary as keywords args"
   ]
  },
  {
   "cell_type": "code",
   "execution_count": 47,
   "metadata": {},
   "outputs": [],
   "source": [
    "def f(usr, *usrs):\n",
    "    print(usr)\n",
    "    print('usrs -> ', usrs)\n",
    "    \n",
    "    for u in usrs:\n",
    "        print(u)"
   ]
  },
  {
   "cell_type": "code",
   "execution_count": 48,
   "metadata": {},
   "outputs": [
    {
     "name": "stdout",
     "output_type": "stream",
     "text": [
      "22222222222222222222\n"
     ]
    }
   ],
   "source": [
    "print('2'*20)"
   ]
  },
  {
   "cell_type": "code",
   "execution_count": 49,
   "metadata": {},
   "outputs": [
    {
     "name": "stdout",
     "output_type": "stream",
     "text": [
      "a\n",
      "usrs ->  ()\n",
      "====================\n",
      "a\n",
      "usrs ->  ('b', 'c', 'd')\n",
      "b\n",
      "c\n",
      "d\n",
      "====================\n",
      "a\n",
      "usrs ->  ('b', 'c', 'd', 'e', 'r')\n",
      "b\n",
      "c\n",
      "d\n",
      "e\n",
      "r\n"
     ]
    }
   ],
   "source": [
    "f('a')\n",
    "print('='*20)\n",
    "f('a', 'b', 'c', 'd')\n",
    "print('='*20)\n",
    "f('a', 'b', 'c', 'd', 'e', 'r')"
   ]
  },
  {
   "cell_type": "code",
   "execution_count": 50,
   "metadata": {},
   "outputs": [],
   "source": [
    "def f(usr, **kwargs):\n",
    "    print(usr)\n",
    "    \n",
    "    print(type(kwargs))\n",
    "    print('a ' + str(a))\n",
    "    \n",
    "    print(kwargs)\n",
    "    for k in kwargs:\n",
    "        print('key is ' + k + 'value is ' + str(kwargs[k]))"
   ]
  },
  {
   "cell_type": "code",
   "execution_count": 51,
   "metadata": {},
   "outputs": [
    {
     "name": "stdout",
     "output_type": "stream",
     "text": [
      "a\n",
      "<class 'dict'>\n",
      "a 1\n",
      "{'a': '1', 'b': 'f', 'c': 4}\n",
      "key is avalue is 1\n",
      "key is bvalue is f\n",
      "key is cvalue is 4\n"
     ]
    }
   ],
   "source": [
    "f('a', a='1', b='f', c=4)"
   ]
  },
  {
   "cell_type": "markdown",
   "metadata": {},
   "source": [
    "# Objest Oriented Programming in Python\n",
    "\n",
    "### Python has been an object-oriented language since the time it existed. Due to this, creating and using classes and objects are downright easy. This chapter helps you become an expert in using Python's object-oriented programming support.\n",
    "\n",
    "#### Remember that everything in python is an object\n",
    "\n",
    "<img src= \"https://pythonspot.com/wp-content/uploads/2015/04/python_class.jpeg.webp\" />\n",
    "\n",
    "<b> Syntax: </b>\n",
    "\n",
    "```class ClassName:\n",
    "    \"\"\"\n",
    "    Class Docstring\n",
    "    \"\"\"\n",
    "    Statements-Block\n",
    "```\n",
    "#### Few Definitions:\n",
    "* Class − A user-defined prototype for an object that defines a set of attributes that characterize any object of the class. The attributes are data members (class variables and instance variables) and methods, accessed via dot notation.\n",
    "* Instance − An individual object of a certain class. An object obj that belongs to a class Circle, for example, is an instance of the class Circle.\n",
    "* Object − A unique instance of a data structure that is defined by its class. An object comprises both data members (class variables and instance variables) and methods.\n",
    "* Method − A special kind of function that is defined in a class definition.\n",
    "\n",
    "** Image Source https://pythonspot.com/wp-content/uploads/2015/04/python_class.jpeg.webp"
   ]
  },
  {
   "cell_type": "code",
   "execution_count": 52,
   "metadata": {},
   "outputs": [],
   "source": [
    "class Users:\n",
    "    def __init__(self, name):\n",
    "        self.name = name\n",
    "    \n",
    "    def say_hello(self):\n",
    "        print(\"Hello \" + self.name)\n",
    "        \n",
    "u = Users(\"david\")"
   ]
  },
  {
   "cell_type": "code",
   "execution_count": 53,
   "metadata": {},
   "outputs": [
    {
     "name": "stdout",
     "output_type": "stream",
     "text": [
      "Hello david\n"
     ]
    }
   ],
   "source": [
    "u.say_hello()"
   ]
  },
  {
   "cell_type": "code",
   "execution_count": 54,
   "metadata": {},
   "outputs": [],
   "source": [
    "# Example 1 \n",
    "class Employee:\n",
    "    '''\n",
    "    Documentation for Employee class.\n",
    "    '''\n",
    "    empCount = 0\n",
    "\n",
    "    def __init__(self, name, salary):\n",
    "        self.name = name\n",
    "        self.salary = salary\n",
    "        Employee.empCount += 1\n",
    "\n",
    "    def displayCount(self):\n",
    "        print (\"Total Employee %d\" % Employee.empCount)\n",
    "\n",
    "    def displayEmployee(self):\n",
    "        print (\"Name : \", self.name,  \", Salary: \", self.salary)"
   ]
  },
  {
   "cell_type": "code",
   "execution_count": 55,
   "metadata": {},
   "outputs": [],
   "source": [
    "e = Employee('Puneet', 1000)"
   ]
  },
  {
   "cell_type": "code",
   "execution_count": 56,
   "metadata": {},
   "outputs": [
    {
     "data": {
      "text/plain": [
       "1"
      ]
     },
     "execution_count": 56,
     "metadata": {},
     "output_type": "execute_result"
    }
   ],
   "source": [
    "e.empCount"
   ]
  },
  {
   "cell_type": "code",
   "execution_count": 57,
   "metadata": {},
   "outputs": [
    {
     "name": "stdout",
     "output_type": "stream",
     "text": [
      "Name :  Puneet , Salary:  1000\n"
     ]
    }
   ],
   "source": [
    "e.displayEmployee()"
   ]
  },
  {
   "cell_type": "code",
   "execution_count": 58,
   "metadata": {},
   "outputs": [],
   "source": [
    "e1 = Employee('Ajay', 1000)"
   ]
  },
  {
   "cell_type": "code",
   "execution_count": 59,
   "metadata": {},
   "outputs": [
    {
     "data": {
      "text/plain": [
       "2"
      ]
     },
     "execution_count": 59,
     "metadata": {},
     "output_type": "execute_result"
    }
   ],
   "source": [
    "e1.empCount"
   ]
  },
  {
   "cell_type": "code",
   "execution_count": 60,
   "metadata": {},
   "outputs": [
    {
     "name": "stdout",
     "output_type": "stream",
     "text": [
      "Name :  Ajay , Salary:  1000\n"
     ]
    }
   ],
   "source": [
    "e1.displayEmployee()"
   ]
  },
  {
   "cell_type": "code",
   "execution_count": 61,
   "metadata": {},
   "outputs": [
    {
     "name": "stdout",
     "output_type": "stream",
     "text": [
      "Employee.__doc__: \n",
      "    Documentation for Employee class.\n",
      "    \n",
      "Employee.__name__: Employee\n",
      "Employee.__module__: __main__\n",
      "Employee.__bases__: (<class 'object'>,)\n",
      "Employee.__dict__: {'__module__': '__main__', '__doc__': '\\n    Documentation for Employee class.\\n    ', 'empCount': 2, '__init__': <function Employee.__init__ at 0x000002713D381D08>, 'displayCount': <function Employee.displayCount at 0x000002713D306510>, 'displayEmployee': <function Employee.displayEmployee at 0x000002713D306400>, '__dict__': <attribute '__dict__' of 'Employee' objects>, '__weakref__': <attribute '__weakref__' of 'Employee' objects>}\n"
     ]
    }
   ],
   "source": [
    "# Attributes\n",
    "print (\"Employee.__doc__:\", Employee.__doc__)\n",
    "print (\"Employee.__name__:\", Employee.__name__)\n",
    "print (\"Employee.__module__:\", Employee.__module__)\n",
    "print (\"Employee.__bases__:\", Employee.__bases__)\n",
    "print (\"Employee.__dict__:\", Employee.__dict__ )"
   ]
  },
  {
   "cell_type": "code",
   "execution_count": 62,
   "metadata": {},
   "outputs": [],
   "source": [
    "class E(Employee):\n",
    "    \"\"\"\n",
    "    \"\"\"\n",
    "    pass"
   ]
  },
  {
   "cell_type": "code",
   "execution_count": 63,
   "metadata": {},
   "outputs": [
    {
     "data": {
      "text/plain": [
       "'E'"
      ]
     },
     "execution_count": 63,
     "metadata": {},
     "output_type": "execute_result"
    }
   ],
   "source": [
    "E.__name__"
   ]
  },
  {
   "cell_type": "markdown",
   "metadata": {},
   "source": [
    "__private\n",
    "\n",
    "_protected\n",
    "\n",
    "public"
   ]
  },
  {
   "cell_type": "code",
   "execution_count": 64,
   "metadata": {},
   "outputs": [
    {
     "name": "stdout",
     "output_type": "stream",
     "text": [
      "public\n",
      "protected\n"
     ]
    },
    {
     "ename": "AttributeError",
     "evalue": "'ClassName' object has no attribute '__priv'",
     "output_type": "error",
     "traceback": [
      "\u001b[1;31m---------------------------------------------------------------------------\u001b[0m",
      "\u001b[1;31mAttributeError\u001b[0m                            Traceback (most recent call last)",
      "\u001b[1;32m<ipython-input-64-b60da8223864>\u001b[0m in \u001b[0;36m<module>\u001b[1;34m()\u001b[0m\n\u001b[0;32m     21\u001b[0m \u001b[0mprint\u001b[0m\u001b[1;33m(\u001b[0m\u001b[0mob\u001b[0m\u001b[1;33m.\u001b[0m\u001b[0mpub\u001b[0m\u001b[1;33m)\u001b[0m\u001b[1;33m\u001b[0m\u001b[0m\n\u001b[0;32m     22\u001b[0m \u001b[0mprint\u001b[0m\u001b[1;33m(\u001b[0m\u001b[0mob\u001b[0m\u001b[1;33m.\u001b[0m\u001b[0m_prot\u001b[0m\u001b[1;33m)\u001b[0m\u001b[1;33m\u001b[0m\u001b[0m\n\u001b[1;32m---> 23\u001b[1;33m \u001b[0mprint\u001b[0m\u001b[1;33m(\u001b[0m\u001b[0mob\u001b[0m\u001b[1;33m.\u001b[0m\u001b[0m__priv\u001b[0m\u001b[1;33m)\u001b[0m \u001b[1;31m## Private members can not be accessed\u001b[0m\u001b[1;33m\u001b[0m\u001b[0m\n\u001b[0m",
      "\u001b[1;31mAttributeError\u001b[0m: 'ClassName' object has no attribute '__priv'"
     ]
    }
   ],
   "source": [
    "class ClassName:\n",
    "    def __init__(self):\n",
    "        self.__priv='private'\n",
    "        self._prot='protected'\n",
    "        self.pub='public'\n",
    "    \n",
    "    def summ(self, a, b):\n",
    "        print(a+b)\n",
    "    \n",
    "    def __secret_sum(self, a, b):\n",
    "        \"\"\"\n",
    "        \"\"\"\n",
    "        print(a+b+1)\n",
    "        \n",
    "    def f(self, a, b):\n",
    "        \"\"\"\n",
    "        \"\"\"\n",
    "        return self.__secret_sum(a,b)\n",
    "\n",
    "ob=ClassName()\n",
    "print(ob.pub)\n",
    "print(ob._prot)\n",
    "print(ob.__priv) ## Private members can not be accessed"
   ]
  },
  {
   "cell_type": "code",
   "execution_count": 65,
   "metadata": {},
   "outputs": [
    {
     "name": "stdout",
     "output_type": "stream",
     "text": [
      "private\n"
     ]
    }
   ],
   "source": [
    "## But private members can stil be accessed in Python\n",
    "print(ob._ClassName__priv)"
   ]
  },
  {
   "cell_type": "code",
   "execution_count": 66,
   "metadata": {},
   "outputs": [
    {
     "name": "stdout",
     "output_type": "stream",
     "text": [
      "3\n"
     ]
    }
   ],
   "source": [
    "ob.summ(1,2)"
   ]
  },
  {
   "cell_type": "code",
   "execution_count": 67,
   "metadata": {},
   "outputs": [
    {
     "name": "stdout",
     "output_type": "stream",
     "text": [
      "4\n"
     ]
    }
   ],
   "source": [
    "ob.f(1,2)"
   ]
  },
  {
   "cell_type": "code",
   "execution_count": 68,
   "metadata": {},
   "outputs": [
    {
     "name": "stdout",
     "output_type": "stream",
     "text": [
      "constructor\n",
      "destructor\n"
     ]
    }
   ],
   "source": [
    "class TestClass:\n",
    "    def __init__(self):\n",
    "        print(\"constructor\")\n",
    "\n",
    "    def __del__(self):\n",
    "        print(\"destructor\")\n",
    "\n",
    "\n",
    "if __name__ == \"__main__\":\n",
    "    obj = TestClass()\n",
    "    del obj"
   ]
  },
  {
   "cell_type": "code",
   "execution_count": 69,
   "metadata": {},
   "outputs": [
    {
     "name": "stdout",
     "output_type": "stream",
     "text": [
      "2016\n",
      "2015\n",
      "2014\n"
     ]
    }
   ],
   "source": [
    "class Date:\n",
    "\tdef __init__(self, year, month, day): #year-month-day\n",
    "\t\tself.year = year\n",
    "\t\tself.month = month\n",
    "\t\tself.day = day\n",
    "\t\t# print(\"init\")\n",
    "\n",
    "\t@classmethod\n",
    "\tdef dmy(self, day, month, year): #day-month-year\n",
    "\t\t# print(\"dmy\")\n",
    "\t\tself.year = year\n",
    "\t\tself.month = month\n",
    "\t\tself.day = day\n",
    "\t\t#order of return should be same as init\n",
    "\t\treturn self(self.year, self.month, self.day)\n",
    "\n",
    "\t@classmethod\n",
    "\tdef mdy(cls, month, day, year): #month-day-year\n",
    "\t\t# print(\"mdy\")\n",
    "\t\tcls.year = year\n",
    "\t\tcls.month = month\n",
    "\t\tcls.day = day\n",
    "\t\t#order of return should be same as init\n",
    "\t\treturn cls(cls.year, cls.month, cls.day)\n",
    "    \n",
    "\tdef f(self):\n",
    "\t\tself.data = self.month * self.year\n",
    "\n",
    "a=Date(2016, 12, 11)\n",
    "print(a.year) #2016\n",
    "\n",
    "b=Date.dmy(9, 10, 2015)\n",
    "print(b.year) #2015\n",
    "\n",
    "a=Date.mdy(7, 8, 2014)\n",
    "print(a.year) #2014"
   ]
  },
  {
   "cell_type": "code",
   "execution_count": 70,
   "metadata": {},
   "outputs": [
    {
     "data": {
      "text/plain": [
       "14098"
      ]
     },
     "execution_count": 70,
     "metadata": {},
     "output_type": "execute_result"
    }
   ],
   "source": [
    "a.f()\n",
    "a.data"
   ]
  },
  {
   "cell_type": "markdown",
   "metadata": {},
   "source": [
    "### Interitance"
   ]
  },
  {
   "cell_type": "code",
   "execution_count": 71,
   "metadata": {},
   "outputs": [
    {
     "name": "stdout",
     "output_type": "stream",
     "text": [
      "********************\n",
      "In Class Base 1\n",
      "********************\n",
      "in class sub\n",
      "base class is -->  base1\n"
     ]
    }
   ],
   "source": [
    "# Single Inheritance\n",
    "class base1:\n",
    "    def __init__(self):\n",
    "        self.class_name = \"base1\"\n",
    "\n",
    "    def fun(self):\n",
    "        print(\"In Class Base 1\")\n",
    "\n",
    "class sub(base1):\n",
    "    def __init__(self):\n",
    "        super(sub, self).__init__() ### super(sub, self) == Parent Class => base1, self --> all parent attr to child instance at self\n",
    "        \n",
    "        \n",
    "    def f2(self):\n",
    "        print(\"in class sub\")\n",
    "        print(\"base class is --> \", self.class_name)\n",
    "\n",
    "ob=sub()\n",
    "print('*'*20)\n",
    "ob.fun() # Inherited from a parent class\n",
    "print('*'*20)\n",
    "ob.f2() # native to only child class"
   ]
  },
  {
   "cell_type": "code",
   "execution_count": 72,
   "metadata": {},
   "outputs": [
    {
     "name": "stdout",
     "output_type": "stream",
     "text": [
      "Eating...\n",
      "Barking...\n",
      "Weeping...\n"
     ]
    }
   ],
   "source": [
    "#Multilevel Inheritance\n",
    "class Animal:\n",
    "    def eat(self):\n",
    "        print('Eating...')\n",
    "class Dog(Animal):\n",
    "    def bark(self):\n",
    "        print('Barking...')\n",
    "class BabyDog(Dog):\n",
    "    def weep(self):\n",
    "        print('Weeping...')\n",
    "\n",
    "d=BabyDog()\n",
    "d.eat()\n",
    "d.bark()\n",
    "d.weep()\n",
    "\n",
    "# Attr of Animal ==> Dog ==> BabyDog (inheriting both Dog and Animal)"
   ]
  },
  {
   "cell_type": "code",
   "execution_count": 73,
   "metadata": {},
   "outputs": [
    {
     "name": "stdout",
     "output_type": "stream",
     "text": [
      "first\n",
      "second\n",
      "third\n"
     ]
    },
    {
     "data": {
      "text/plain": [
       "<__main__.Third at 0x2713d39c5c0>"
      ]
     },
     "execution_count": 73,
     "metadata": {},
     "output_type": "execute_result"
    }
   ],
   "source": [
    "#Multiple Inheritance\n",
    "class First:\n",
    "    def __init__(self):\n",
    "#         super(First, self).__init__()\n",
    "        print(\"first\")\n",
    "\n",
    "\n",
    "class Second(object):\n",
    "    def __init__(self):\n",
    "        super(Second, self).__init__()\n",
    "        print(\"second\")\n",
    "\n",
    "\n",
    "class Third(Second, First):\n",
    "    def __init__(self):\n",
    "        super(Third, self).__init__()\n",
    "        print(\"third\")\n",
    "\n",
    "\n",
    "Third()"
   ]
  },
  {
   "cell_type": "code",
   "execution_count": 74,
   "metadata": {},
   "outputs": [
    {
     "name": "stdout",
     "output_type": "stream",
     "text": [
      "Not In Class Base 1 but in sub\n",
      "in class sub\n",
      "base class is -->  base1\n"
     ]
    }
   ],
   "source": [
    "# overriding\n",
    "class base1:\n",
    "    def __init__(self):\n",
    "        self.class_name = \"base1\"\n",
    "        self.xy = 3\n",
    "\n",
    "    def fun(self):\n",
    "        print(\"In Class Base 1\")\n",
    "\n",
    "class sub(base1):\n",
    "    def __init__(self):\n",
    "        super(sub, self).__init__()\n",
    "        self.abc = 2\n",
    "        self.data = {}\n",
    "        \n",
    "    def fun(self):\n",
    "        print(\"Not In Class Base 1 but in sub\")\n",
    "\n",
    "    def f2(self):\n",
    "        print(\"in class sub\")\n",
    "        print(\"base class is --> \", self.class_name)\n",
    "\n",
    "ob=sub()\n",
    "ob.fun()\n",
    "ob.f2()"
   ]
  },
  {
   "cell_type": "markdown",
   "metadata": {},
   "source": [
    "### polymorphism"
   ]
  },
  {
   "cell_type": "code",
   "execution_count": 75,
   "metadata": {},
   "outputs": [
    {
     "name": "stdout",
     "output_type": "stream",
     "text": [
      "Meow\n",
      "Woof\n"
     ]
    }
   ],
   "source": [
    "class Animal:\n",
    "    def __init__(self, name):\n",
    "        self.name=name\n",
    "\n",
    "    def talk(self):\n",
    "        pass\n",
    "\n",
    "class Cat(Animal):\n",
    "    def talk(selfs):\n",
    "        print(\"Meow\")\n",
    "\n",
    "class Dog(Animal):\n",
    "    def talk(self):\n",
    "        print(\"Woof\")\n",
    "        \n",
    "class Human(Animal):\n",
    "    def talk(self):\n",
    "        print(\"Speak\")\n",
    "\n",
    "c=Cat('CatManDo')\n",
    "c.talk()\n",
    "\n",
    "d=Dog('Mr. Woof')\n",
    "d.talk()"
   ]
  },
  {
   "cell_type": "markdown",
   "metadata": {},
   "source": [
    "### Getter setter"
   ]
  },
  {
   "cell_type": "code",
   "execution_count": 76,
   "metadata": {},
   "outputs": [
    {
     "name": "stdout",
     "output_type": "stream",
     "text": [
      "Python\n",
      "Python\n",
      "Machine Learning|\n",
      "Machine Learning|\n"
     ]
    }
   ],
   "source": [
    "class EduGetSet:\n",
    "    def __init__(self,courseName):\n",
    "        self.courseName=courseName\n",
    "\n",
    "    def setCourse_Name(self,courseName):\n",
    "        self.courseName=courseName\n",
    "\n",
    "    def getCourse_Name(self):\n",
    "        return(self.courseName)\n",
    "\n",
    "ob=EduGetSet(\"Python\")\n",
    "\n",
    "print(ob.getCourse_Name())\n",
    "print(ob.courseName)\n",
    "ob.setCourse_Name(\"Machine Learning|\")\n",
    "print(ob.getCourse_Name())\n",
    "print(ob.courseName)"
   ]
  },
  {
   "cell_type": "code",
   "execution_count": 77,
   "metadata": {},
   "outputs": [
    {
     "name": "stderr",
     "output_type": "stream",
     "text": [
      "python: can't open file 'C:/ghfgh/hjhggone.py': [Errno 2] No such file or directory\n"
     ]
    }
   ],
   "source": [
    "! python C:/ghfgh/hjhggone.py"
   ]
  },
  {
   "cell_type": "markdown",
   "metadata": {},
   "source": [
    "class a:\n",
    "    func(cls):\n",
    "        cls.sd;kdlk\n",
    "        \n",
    "    f2(self):\n",
    "        self.gdjhdajk\n",
    "    "
   ]
  },
  {
   "cell_type": "markdown",
   "metadata": {},
   "source": [
    "## Modules\n",
    "\n",
    "* os\n",
    "* sys\n",
    "* math\n",
    "* datetime\n",
    "* random\n",
    "* json"
   ]
  },
  {
   "cell_type": "code",
   "execution_count": 78,
   "metadata": {},
   "outputs": [],
   "source": [
    "from sys import *\n",
    "# this imports all function as objects in session\n",
    "import sys\n",
    "# this one creates a reference by same name sys "
   ]
  },
  {
   "cell_type": "code",
   "execution_count": 79,
   "metadata": {},
   "outputs": [],
   "source": [
    "import os"
   ]
  },
  {
   "cell_type": "code",
   "execution_count": 80,
   "metadata": {},
   "outputs": [
    {
     "data": {
      "text/plain": [
       "['.android',\n",
       " '.astropy',\n",
       " '.bash_history',\n",
       " '.conda',\n",
       " '.config',\n",
       " '.docker',\n",
       " '.eclipse',\n",
       " '.fairisaac',\n",
       " '.gitconfig',\n",
       " '.idea-build',\n",
       " '.IdeaIC2018.1',\n",
       " '.IdeaIC2018.2',\n",
       " '.InstallAnywhere',\n",
       " '.ipynb_checkpoints',\n",
       " '.ipython',\n",
       " '.ivy2',\n",
       " '.julia',\n",
       " '.jupyter',\n",
       " '.m2',\n",
       " '.matplotlib',\n",
       " '.oracle_jre_usage',\n",
       " '.p2',\n",
       " '.pdfbox.cache',\n",
       " '.pgAdmin4.1590372639.log',\n",
       " '.pgAdmin4.startup.log',\n",
       " '.PyCharmCE2018.1',\n",
       " '.PyCharmCE2018.2',\n",
       " '.PyCharmCE2018.3',\n",
       " '.PyCharmCE2019.2',\n",
       " '.pytest_cache',\n",
       " '.sbt',\n",
       " '.scala_history',\n",
       " '.ssh',\n",
       " '.streamlit',\n",
       " '.tooling',\n",
       " '.uc-4f2fba35a5bc00726fd5c267bd98abc6.puneet.desktop-ideijn5.tmp',\n",
       " '.viminfo',\n",
       " '.zinc',\n",
       " '0_1_spark_ex',\n",
       " '0_Assgnmt',\n",
       " '0_Python_NB',\n",
       " '0_Visualization',\n",
       " '1_NSE',\n",
       " '1_PetronasTraining',\n",
       " '2_Starbucks_Campaign27_feb_2019',\n",
       " '3D Objects',\n",
       " '3_Escorts',\n",
       " '3_TFS',\n",
       " 'adaptify',\n",
       " 'airflow-tutorial',\n",
       " 'Anaconda2',\n",
       " 'AppData',\n",
       " 'Application Data',\n",
       " 'Aug 2018',\n",
       " 'Bank_GST_Triangulation_Report.pdf',\n",
       " 'board meeting notes.txt',\n",
       " 'Capillary data 2016.zip',\n",
       " 'Capillary Data Jan - Dec 2017.zip',\n",
       " 'Capillary data Jan 2018 to April 2018.zip',\n",
       " 'Capillary_Report_20190303.csv',\n",
       " 'Capillary_Report_20190305.csv',\n",
       " 'Capillary_Report_20190306.csv',\n",
       " 'Capillary_Report_20190307.csv',\n",
       " 'Capillary_Report_20190308.csv',\n",
       " 'Capillary_Report_20190309.csv',\n",
       " 'Capillary_Report_20190310.csv',\n",
       " 'Capillary_Report_20190329.csv',\n",
       " 'Capillary_Report_20190330.csv',\n",
       " 'Capillary_Report_20190331.csv',\n",
       " 'Capillary_Report_20190403.csv',\n",
       " 'CIBIL_Bureau-0.0.5-py3-none-any.whl',\n",
       " 'cmpn_dim_insert.sql',\n",
       " 'Contacts',\n",
       " 'Cookies',\n",
       " 'Customer_Enrolment_Report_20190225.csv',\n",
       " 'Customer_Enrolment_Report_20190226.csv',\n",
       " 'Customer_Enrolment_Report_20190304.csv',\n",
       " 'Customer_Enrolment_Report_20190310.csv',\n",
       " 'Customer_Enrolment_Report_20190329.csv',\n",
       " 'Customer_Enrolment_Report_20190331.csv',\n",
       " 'Customer_Enrolment_Report_20190402.csv',\n",
       " 'Customer_Enrolment_Report_20190515.csv',\n",
       " 'Dashboard.txt',\n",
       " 'Data Processing Python',\n",
       " 'Dec 2018.zip',\n",
       " 'Desktop',\n",
       " 'django_projects',\n",
       " 'Documents',\n",
       " 'Downloads',\n",
       " 'Envs',\n",
       " 'ESC_Outlook_Download_Attachment.ipynb',\n",
       " 'Expenses',\n",
       " 'export.csv',\n",
       " 'export.tsv',\n",
       " 'export_1.tsv',\n",
       " 'export_activation.csv',\n",
       " 'Favorites',\n",
       " 'Finnable.ipynb',\n",
       " 'Gold_Customer_Indranagar_Info.tsv',\n",
       " 'HR_AB',\n",
       " 'IdeaProjects',\n",
       " 'IntelGraphicsProfiles',\n",
       " 'InteractiveDT.ipynb',\n",
       " 'Jan 2019.zip',\n",
       " 'July 2018',\n",
       " 'June 2018',\n",
       " 'Links',\n",
       " 'Local Settings',\n",
       " 'Log_ROC.png',\n",
       " 'May 2018',\n",
       " 'May to Aug 2018.zip',\n",
       " 'MicrosoftEdgeBackups',\n",
       " 'Music',\n",
       " 'My Documents',\n",
       " 'NetHood',\n",
       " 'notebook.tex',\n",
       " 'NTUSER.DAT',\n",
       " 'ntuser.dat.LOG1',\n",
       " 'ntuser.dat.LOG2',\n",
       " 'NTUSER.DAT{7b6bd7c7-f2b9-11e9-b745-00155d6dde0a}.TM.blf',\n",
       " 'NTUSER.DAT{7b6bd7c7-f2b9-11e9-b745-00155d6dde0a}.TMContainer00000000000000000001.regtrans-ms',\n",
       " 'NTUSER.DAT{7b6bd7c7-f2b9-11e9-b745-00155d6dde0a}.TMContainer00000000000000000002.regtrans-ms',\n",
       " 'ntuser.ini',\n",
       " 'OneDrive',\n",
       " 'opt.txt',\n",
       " 'pandas_table.html',\n",
       " 'pc-client.properties',\n",
       " 'PDFReader.ipynb',\n",
       " 'Pd_Sf_Dd_lib_comparision.ipynb',\n",
       " 'petronas_3day',\n",
       " 'Pictures',\n",
       " 'Plotly Charts.ipynb',\n",
       " 'PrintHood',\n",
       " 'PUTTY.RND',\n",
       " 'PycharmProjects',\n",
       " 'Recent',\n",
       " 'Saved Games',\n",
       " 'SB_Feedback_Analysis.ipynb',\n",
       " 'scalaframes',\n",
       " 'Searches',\n",
       " 'sender_receiver.csv',\n",
       " 'SendTo',\n",
       " 'Sept to Nov 2018.zip',\n",
       " 'shinyproxy-template-master',\n",
       " 'shinyproxy-template-master.zip',\n",
       " 'Source.gv',\n",
       " 'Source.gv.pdf',\n",
       " 'splumbr',\n",
       " 'Starbucks.sql',\n",
       " 'Starbucks.txt',\n",
       " 'Starbucks1.sql',\n",
       " 'Starbucks_Feb2020_Weekly.sql',\n",
       " 'Starbucks~3.sql',\n",
       " 'Starbucks~31.sql',\n",
       " 'Start Menu',\n",
       " 'temp',\n",
       " 'temp-plot.html',\n",
       " 'Templates',\n",
       " 'test.py',\n",
       " 'testing123',\n",
       " 'Tier_Movement_Report_20190310.csv',\n",
       " 'Tier_Movement_Report_20190322.csv',\n",
       " 'Tier_Movement_Report_20190323.csv',\n",
       " 'Tier_Movement_Report_20190329.csv',\n",
       " 'Tier_Movement_Report_20190331.csv',\n",
       " 'Transaction detail report 2012-2014.csv',\n",
       " 'Transaction detail report 2014-2016.csv',\n",
       " 'Transaction_Detail_Report_20190311.csv',\n",
       " 'Transaction_Detail_Report_20190318.csv',\n",
       " 'Transaction_Detail_Report_20190321.csv',\n",
       " 'Transaction_Detail_Report_20190329.csv',\n",
       " 'Transaction_Detail_Report_20190330.csv',\n",
       " 'Untitled Folder',\n",
       " 'Untitled.ipynb',\n",
       " 'untitled.md',\n",
       " 'untitled.txt',\n",
       " 'Untitled1.ipynb',\n",
       " 'Untitled2.ipynb',\n",
       " 'Untitled3.ipynb',\n",
       " 'Untitled4.ipynb',\n",
       " 'Untitled5.ipynb',\n",
       " 'Untitled6.ipynb',\n",
       " 'Untitled7.ipynb',\n",
       " 'Untitled8.ipynb',\n",
       " 'Untitled9.ipynb',\n",
       " 'VIA',\n",
       " 'Videos',\n",
       " 'Visualization',\n",
       " 'workspace',\n",
       " '_temp_cibil.txt']"
      ]
     },
     "execution_count": 80,
     "metadata": {},
     "output_type": "execute_result"
    }
   ],
   "source": [
    "os.listdir(\"..\")"
   ]
  },
  {
   "cell_type": "code",
   "execution_count": 81,
   "metadata": {},
   "outputs": [
    {
     "data": {
      "text/plain": [
       "[('.',\n",
       "  ['.ipynb_checkpoints', '__pycache__'],\n",
       "  ['fname.json', 'Functions.ipynb', 'one.py', 'PCA-iris.ipynb', 'two.py']),\n",
       " ('.\\\\.ipynb_checkpoints',\n",
       "  [],\n",
       "  ['Functions-checkpoint.ipynb', 'PCA-iris-checkpoint.ipynb']),\n",
       " ('.\\\\__pycache__', [], ['one.cpython-36.pyc'])]"
      ]
     },
     "execution_count": 81,
     "metadata": {},
     "output_type": "execute_result"
    }
   ],
   "source": [
    "list(os.walk(\".\"))"
   ]
  },
  {
   "cell_type": "code",
   "execution_count": 82,
   "metadata": {},
   "outputs": [],
   "source": [
    "os.mkdir(\"0_folder_created\")"
   ]
  },
  {
   "cell_type": "code",
   "execution_count": 83,
   "metadata": {},
   "outputs": [],
   "source": [
    "os.rmdir(\"0_folder_created/\")"
   ]
  },
  {
   "cell_type": "code",
   "execution_count": 84,
   "metadata": {},
   "outputs": [
    {
     "data": {
      "text/plain": [
       "'C:\\\\Users\\\\puneet\\\\0_Python_NB'"
      ]
     },
     "execution_count": 84,
     "metadata": {},
     "output_type": "execute_result"
    }
   ],
   "source": [
    "os.getcwd()"
   ]
  },
  {
   "cell_type": "code",
   "execution_count": 85,
   "metadata": {},
   "outputs": [],
   "source": [
    "import sys"
   ]
  },
  {
   "cell_type": "code",
   "execution_count": 86,
   "metadata": {},
   "outputs": [
    {
     "name": "stdout",
     "output_type": "stream",
     "text": [
      "['', 'C:\\\\ProgramData\\\\Anaconda3\\\\python36.zip', 'C:\\\\ProgramData\\\\Anaconda3\\\\DLLs', 'C:\\\\ProgramData\\\\Anaconda3\\\\lib', 'C:\\\\ProgramData\\\\Anaconda3', 'C:\\\\ProgramData\\\\Anaconda3\\\\lib\\\\site-packages', 'C:\\\\ProgramData\\\\Anaconda3\\\\lib\\\\site-packages\\\\win32', 'C:\\\\ProgramData\\\\Anaconda3\\\\lib\\\\site-packages\\\\win32\\\\lib', 'C:\\\\ProgramData\\\\Anaconda3\\\\lib\\\\site-packages\\\\Pythonwin', 'C:\\\\ProgramData\\\\Anaconda3\\\\lib\\\\site-packages\\\\IPython\\\\extensions', 'C:\\\\Users\\\\puneet\\\\.ipython', 'C:\\\\Users\\\\puneet\\\\0_Python_NB']\n"
     ]
    }
   ],
   "source": [
    "sys.path.append(\"C:\\\\Users\\\\puneet\\\\0_Python_NB\")\n",
    "print(sys.path)"
   ]
  },
  {
   "cell_type": "code",
   "execution_count": 87,
   "metadata": {},
   "outputs": [
    {
     "data": {
      "text/plain": [
       "'3.6.5 |Anaconda, Inc.| (default, Mar 29 2018, 13:32:41) [MSC v.1900 64 bit (AMD64)]'"
      ]
     },
     "execution_count": 87,
     "metadata": {},
     "output_type": "execute_result"
    }
   ],
   "source": [
    "sys.version"
   ]
  },
  {
   "cell_type": "code",
   "execution_count": 88,
   "metadata": {},
   "outputs": [],
   "source": [
    "import random"
   ]
  },
  {
   "cell_type": "code",
   "execution_count": 89,
   "metadata": {},
   "outputs": [
    {
     "data": {
      "text/plain": [
       "38"
      ]
     },
     "execution_count": 89,
     "metadata": {},
     "output_type": "execute_result"
    }
   ],
   "source": [
    "random.randint(5, 50)"
   ]
  },
  {
   "cell_type": "code",
   "execution_count": 90,
   "metadata": {},
   "outputs": [
    {
     "data": {
      "text/plain": [
       "141"
      ]
     },
     "execution_count": 90,
     "metadata": {},
     "output_type": "execute_result"
    }
   ],
   "source": [
    "random.randrange(1, 300, 20)"
   ]
  },
  {
   "cell_type": "code",
   "execution_count": 91,
   "metadata": {},
   "outputs": [
    {
     "data": {
      "text/plain": [
       "0.8703058619854571"
      ]
     },
     "execution_count": 91,
     "metadata": {},
     "output_type": "execute_result"
    }
   ],
   "source": [
    "random.random()"
   ]
  },
  {
   "cell_type": "code",
   "execution_count": 92,
   "metadata": {},
   "outputs": [
    {
     "data": {
      "text/plain": [
       "5"
      ]
     },
     "execution_count": 92,
     "metadata": {},
     "output_type": "execute_result"
    }
   ],
   "source": [
    "random.choice([1,2,3,4,5,6,8])"
   ]
  },
  {
   "cell_type": "code",
   "execution_count": 93,
   "metadata": {},
   "outputs": [],
   "source": [
    "import math"
   ]
  },
  {
   "cell_type": "code",
   "execution_count": 94,
   "metadata": {},
   "outputs": [
    {
     "data": {
      "text/plain": [
       "(3, 5, 8.0, 3.4011973816621555)"
      ]
     },
     "execution_count": 94,
     "metadata": {},
     "output_type": "execute_result"
    }
   ],
   "source": [
    "math.floor(3.6), math.ceil(4.3), math.sqrt(64), math.log(30)"
   ]
  },
  {
   "cell_type": "code",
   "execution_count": 95,
   "metadata": {},
   "outputs": [],
   "source": [
    "import datetime"
   ]
  },
  {
   "cell_type": "code",
   "execution_count": 96,
   "metadata": {},
   "outputs": [],
   "source": [
    "d = datetime.date(2020,4,6)"
   ]
  },
  {
   "cell_type": "code",
   "execution_count": 97,
   "metadata": {},
   "outputs": [
    {
     "data": {
      "text/plain": [
       "('06-04-2020', '06-April-2020', 'Mon Apr  6 00:00:00 2020')"
      ]
     },
     "execution_count": 97,
     "metadata": {},
     "output_type": "execute_result"
    }
   ],
   "source": [
    "d.strftime(\"%d-%m-%Y\"), d.strftime(\"%d-%B-%Y\"), d.strftime(\"%c\")"
   ]
  },
  {
   "cell_type": "code",
   "execution_count": 98,
   "metadata": {},
   "outputs": [
    {
     "data": {
      "text/plain": [
       "'06-Apr-2020'"
      ]
     },
     "execution_count": 98,
     "metadata": {},
     "output_type": "execute_result"
    }
   ],
   "source": [
    "d.strftime(\"%d-%b-%Y\")"
   ]
  },
  {
   "cell_type": "code",
   "execution_count": 99,
   "metadata": {},
   "outputs": [
    {
     "data": {
      "text/plain": [
       "datetime.date(2020, 3, 27)"
      ]
     },
     "execution_count": 99,
     "metadata": {},
     "output_type": "execute_result"
    }
   ],
   "source": [
    "d - datetime.timedelta(10)"
   ]
  },
  {
   "cell_type": "code",
   "execution_count": 100,
   "metadata": {},
   "outputs": [
    {
     "data": {
      "text/plain": [
       "datetime.date(2020, 5, 3)"
      ]
     },
     "execution_count": 100,
     "metadata": {},
     "output_type": "execute_result"
    }
   ],
   "source": [
    "datetime.date.today()"
   ]
  },
  {
   "cell_type": "code",
   "execution_count": 101,
   "metadata": {},
   "outputs": [
    {
     "data": {
      "text/plain": [
       "2020"
      ]
     },
     "execution_count": 101,
     "metadata": {},
     "output_type": "execute_result"
    }
   ],
   "source": [
    "d.year"
   ]
  },
  {
   "cell_type": "code",
   "execution_count": 102,
   "metadata": {},
   "outputs": [
    {
     "data": {
      "text/plain": [
       "6"
      ]
     },
     "execution_count": 102,
     "metadata": {},
     "output_type": "execute_result"
    }
   ],
   "source": [
    "d.day"
   ]
  },
  {
   "cell_type": "code",
   "execution_count": 103,
   "metadata": {},
   "outputs": [
    {
     "data": {
      "text/plain": [
       "4"
      ]
     },
     "execution_count": 103,
     "metadata": {},
     "output_type": "execute_result"
    }
   ],
   "source": [
    "d.month"
   ]
  },
  {
   "cell_type": "code",
   "execution_count": 104,
   "metadata": {},
   "outputs": [],
   "source": [
    "import json"
   ]
  },
  {
   "cell_type": "code",
   "execution_count": 105,
   "metadata": {},
   "outputs": [
    {
     "data": {
      "text/plain": [
       "'{\"a\": 1, \"b\": 2}'"
      ]
     },
     "execution_count": 105,
     "metadata": {},
     "output_type": "execute_result"
    }
   ],
   "source": [
    "json.dumps({'a':1, 'b':2})"
   ]
  },
  {
   "cell_type": "code",
   "execution_count": 106,
   "metadata": {},
   "outputs": [],
   "source": [
    "json.dump({'a':1, 'b':2}, open(\"fname.json\", 'w'))"
   ]
  },
  {
   "cell_type": "code",
   "execution_count": 107,
   "metadata": {},
   "outputs": [
    {
     "data": {
      "text/plain": [
       "{'a': 1, 'b': 2}"
      ]
     },
     "execution_count": 107,
     "metadata": {},
     "output_type": "execute_result"
    }
   ],
   "source": [
    "json.load(open(\"fname.json\", 'r'))"
   ]
  },
  {
   "cell_type": "code",
   "execution_count": 108,
   "metadata": {},
   "outputs": [
    {
     "data": {
      "text/plain": [
       "{'a': 1, 'b': 2}"
      ]
     },
     "execution_count": 108,
     "metadata": {},
     "output_type": "execute_result"
    }
   ],
   "source": [
    "json.loads(open(\"fname.json\", 'r').read())"
   ]
  },
  {
   "cell_type": "markdown",
   "metadata": {},
   "source": [
    "### Regular Expressions\n",
    "\n",
    "library -> `re`\n",
    "\n",
    "Important functions - \n",
    "* search\n",
    "* match\n",
    "* sub\n",
    "\n",
    "<b>Syntax: </b>\n",
    "\n",
    "`re.match(pattern, string flag)`"
   ]
  },
  {
   "cell_type": "code",
   "execution_count": 109,
   "metadata": {},
   "outputs": [],
   "source": [
    "import re"
   ]
  },
  {
   "cell_type": "code",
   "execution_count": 110,
   "metadata": {},
   "outputs": [],
   "source": [
    "lines = \"\"\"Cats are smarter than dogs.\"\"\""
   ]
  },
  {
   "cell_type": "code",
   "execution_count": 111,
   "metadata": {},
   "outputs": [
    {
     "name": "stdout",
     "output_type": "stream",
     "text": [
      "smarter\n",
      "('Cats', 'smarter')\n"
     ]
    },
    {
     "data": {
      "text/plain": [
       "<_sre.SRE_Match object; span=(0, 27), match='Cats are smarter than dogs.'>"
      ]
     },
     "execution_count": 111,
     "metadata": {},
     "output_type": "execute_result"
    }
   ],
   "source": [
    "mtch_pttn = re.match( r'(.*) are (.*?) .*', lines, re.A)\n",
    "# print(mtch_pttn.group())\n",
    "print(mtch_pttn.group(2))\n",
    "print(mtch_pttn.groups())\n",
    "mtch_pttn"
   ]
  },
  {
   "cell_type": "code",
   "execution_count": 112,
   "metadata": {},
   "outputs": [
    {
     "name": "stdout",
     "output_type": "stream",
     "text": [
      "Cats are smarter than dogs.\n",
      "Cats\n",
      "('Cats', 'smarter')\n"
     ]
    }
   ],
   "source": [
    "srch_pttn = re.search( r'(.*) are (.*?) .*', lines, re.M|re.I)\n",
    "print(srch_pttn.group())\n",
    "print(srch_pttn.group(1))\n",
    "print(srch_pttn.groups())"
   ]
  },
  {
   "cell_type": "code",
   "execution_count": 113,
   "metadata": {},
   "outputs": [
    {
     "name": "stdout",
     "output_type": "stream",
     "text": [
      "*bc*e *bce*f *bc*ef\n",
      "*def *def\n",
      "*+*+d4+e5\n",
      "* * AxxB *\n",
      "*C *C AC\n",
      "ABB * * *BBB\n",
      "*defgabc\n",
      "abcdefg*\n",
      "*C\n",
      "* + ** = **\n",
      "3***14***17\n"
     ]
    }
   ],
   "source": [
    "print(re.sub(r'[ad]','*','abcde abcedf abcdef'))\n",
    "\n",
    "print(re.sub(r'abc','*','abcdef abcdef'))\n",
    "\n",
    "print(re.sub(r'[abc][123]','*','a1+b2+d4+e5')) # A1\n",
    "\n",
    "print(re.sub(r'A.B', '*', 'A2B AxB AxxB A$B'))\n",
    "\n",
    "print(re.sub(r'AB+', '*', 'ABC ABBBBBBC AC'))\n",
    "\n",
    "print(re.sub(r'AB{3,6}', '*', 'ABB ABBB ABBBB ABBBBBBBBB'))\n",
    "\n",
    "print(re.sub('^abc', '*', 'abcdefgabc'))\n",
    "\n",
    "print(re.sub('abc$', '*', 'abcdefgabc'))\n",
    "\n",
    "print(re.sub(r'AB\\+', '*', 'AB+C'))\n",
    "\n",
    "print(re.sub(r'\\d', '*', '3 + 14 = 17'))\n",
    "\n",
    "print(re.sub(r'\\D', '*', '3 + 14 = 17'))"
   ]
  },
  {
   "cell_type": "code",
   "execution_count": 114,
   "metadata": {},
   "outputs": [
    {
     "name": "stdout",
     "output_type": "stream",
     "text": [
      "Before calling bar:  20\n",
      "Calling bar now\n",
      "After calling bar:  20\n",
      "locals ->  {'bar': <function foo.<locals>.bar at 0x000002713D2FF378>, 'x': 20}\n",
      "x in main :  25\n"
     ]
    }
   ],
   "source": [
    "def foo():\n",
    "    x = 20\n",
    "\n",
    "    def bar():\n",
    "        global x\n",
    "        x = 25\n",
    "    \n",
    "    print(\"Before calling bar: \", x)\n",
    "    print(\"Calling bar now\")\n",
    "    bar()\n",
    "    print(\"After calling bar: \", x)\n",
    "    print(\"locals -> \", locals())\n",
    "\n",
    "foo()\n",
    "print(\"x in main : \", x)"
   ]
  },
  {
   "cell_type": "code",
   "execution_count": 115,
   "metadata": {},
   "outputs": [
    {
     "data": {
      "text/plain": [
       "['__displayhook__',\n",
       " '__doc__',\n",
       " '__excepthook__',\n",
       " '__interactivehook__',\n",
       " '__loader__',\n",
       " '__name__',\n",
       " '__package__',\n",
       " '__spec__',\n",
       " '__stderr__',\n",
       " '__stdin__',\n",
       " '__stdout__',\n",
       " '_clear_type_cache',\n",
       " '_current_frames',\n",
       " '_debugmallocstats',\n",
       " '_enablelegacywindowsfsencoding',\n",
       " '_getframe',\n",
       " '_git',\n",
       " '_home',\n",
       " '_xoptions',\n",
       " 'api_version',\n",
       " 'argv',\n",
       " 'base_exec_prefix',\n",
       " 'base_prefix',\n",
       " 'builtin_module_names',\n",
       " 'byteorder',\n",
       " 'call_tracing',\n",
       " 'callstats',\n",
       " 'copyright',\n",
       " 'displayhook',\n",
       " 'dllhandle',\n",
       " 'dont_write_bytecode',\n",
       " 'exc_info',\n",
       " 'excepthook',\n",
       " 'exec_prefix',\n",
       " 'executable',\n",
       " 'exit',\n",
       " 'flags',\n",
       " 'float_info',\n",
       " 'float_repr_style',\n",
       " 'get_asyncgen_hooks',\n",
       " 'get_coroutine_wrapper',\n",
       " 'getallocatedblocks',\n",
       " 'getcheckinterval',\n",
       " 'getdefaultencoding',\n",
       " 'getfilesystemencodeerrors',\n",
       " 'getfilesystemencoding',\n",
       " 'getprofile',\n",
       " 'getrecursionlimit',\n",
       " 'getrefcount',\n",
       " 'getsizeof',\n",
       " 'getswitchinterval',\n",
       " 'gettrace',\n",
       " 'getwindowsversion',\n",
       " 'hash_info',\n",
       " 'hexversion',\n",
       " 'implementation',\n",
       " 'int_info',\n",
       " 'intern',\n",
       " 'is_finalizing',\n",
       " 'last_traceback',\n",
       " 'last_type',\n",
       " 'last_value',\n",
       " 'maxsize',\n",
       " 'maxunicode',\n",
       " 'meta_path',\n",
       " 'modules',\n",
       " 'path',\n",
       " 'path_hooks',\n",
       " 'path_importer_cache',\n",
       " 'platform',\n",
       " 'prefix',\n",
       " 'ps1',\n",
       " 'ps2',\n",
       " 'ps3',\n",
       " 'set_asyncgen_hooks',\n",
       " 'set_coroutine_wrapper',\n",
       " 'setcheckinterval',\n",
       " 'setprofile',\n",
       " 'setrecursionlimit',\n",
       " 'setswitchinterval',\n",
       " 'settrace',\n",
       " 'stderr',\n",
       " 'stdin',\n",
       " 'stdout',\n",
       " 'thread_info',\n",
       " 'version',\n",
       " 'version_info',\n",
       " 'warnoptions',\n",
       " 'winver']"
      ]
     },
     "execution_count": 115,
     "metadata": {},
     "output_type": "execute_result"
    }
   ],
   "source": [
    "dir(sys)"
   ]
  },
  {
   "cell_type": "code",
   "execution_count": 116,
   "metadata": {},
   "outputs": [],
   "source": [
    "import one"
   ]
  },
  {
   "cell_type": "code",
   "execution_count": 117,
   "metadata": {},
   "outputs": [
    {
     "name": "stdout",
     "output_type": "stream",
     "text": [
      "f() is called.\n"
     ]
    }
   ],
   "source": [
    "one.f()"
   ]
  },
  {
   "cell_type": "code",
   "execution_count": 118,
   "metadata": {},
   "outputs": [
    {
     "name": "stdout",
     "output_type": "stream",
     "text": [
      "f() is called.\n"
     ]
    }
   ],
   "source": [
    "one.f2()\n"
   ]
  },
  {
   "cell_type": "markdown",
   "metadata": {},
   "source": [
    "reload (one)"
   ]
  },
  {
   "cell_type": "code",
   "execution_count": 119,
   "metadata": {},
   "outputs": [
    {
     "data": {
      "text/plain": [
       "<module 'one' from 'C:\\\\Users\\\\puneet\\\\0_Python_NB\\\\one.py'>"
      ]
     },
     "execution_count": 119,
     "metadata": {},
     "output_type": "execute_result"
    }
   ],
   "source": [
    "one"
   ]
  },
  {
   "cell_type": "code",
   "execution_count": 120,
   "metadata": {},
   "outputs": [
    {
     "data": {
      "text/plain": [
       "3"
      ]
     },
     "execution_count": 120,
     "metadata": {},
     "output_type": "execute_result"
    }
   ],
   "source": [
    "one.summ(1,2)"
   ]
  },
  {
   "cell_type": "code",
   "execution_count": 121,
   "metadata": {},
   "outputs": [],
   "source": [
    "import sys as s"
   ]
  },
  {
   "cell_type": "code",
   "execution_count": 122,
   "metadata": {},
   "outputs": [
    {
     "data": {
      "text/plain": [
       "1013"
      ]
     },
     "execution_count": 122,
     "metadata": {},
     "output_type": "execute_result"
    }
   ],
   "source": [
    "s.api_version"
   ]
  },
  {
   "cell_type": "code",
   "execution_count": null,
   "metadata": {},
   "outputs": [],
   "source": []
  }
 ],
 "metadata": {
  "kernelspec": {
   "display_name": "Python 3",
   "language": "python",
   "name": "python3"
  },
  "language_info": {
   "codemirror_mode": {
    "name": "ipython",
    "version": 3
   },
   "file_extension": ".py",
   "mimetype": "text/x-python",
   "name": "python",
   "nbconvert_exporter": "python",
   "pygments_lexer": "ipython3",
   "version": "3.6.5"
  }
 },
 "nbformat": 4,
 "nbformat_minor": 2
}
